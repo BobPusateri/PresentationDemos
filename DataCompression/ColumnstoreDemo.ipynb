{
    "metadata": {
        "kernelspec": {
            "name": "SQL",
            "display_name": "SQL",
            "language": "sql"
        },
        "language_info": {
            "name": "sql",
            "version": ""
        }
    },
    "nbformat_minor": 2,
    "nbformat": 4,
    "cells": [
        {
            "cell_type": "markdown",
            "source": [
                "# Columnstore Compression"
            ],
            "metadata": {
                "azdata_cell_guid": "e7230d7a-67ed-460c-937a-306070d4fd37"
            }
        },
        {
            "cell_type": "markdown",
            "source": [
                "Create a nonclustered columnstore index on 5 columns from dbo.ParkingTickets"
            ],
            "metadata": {
                "azdata_cell_guid": "34dd91ad-ce49-48e1-b6d9-69e1112eeb2c"
            }
        },
        {
            "cell_type": "code",
            "source": [
                "USE ParkingTickets\r\n",
                "GO\r\n",
                "\r\n",
                "CREATE COLUMNSTORE INDEX CI_ParkingTickets\r\n",
                "ON ParkingTickets.dbo.ParkingTickets (\r\n",
                "    Ticket_number, -- bigint\r\n",
                "    license_state, -- char(2)\r\n",
                "    license_type, -- char(3)\r\n",
                "    car_make, -- char(4)\r\n",
                "    issue_date -- datetime2(0)\r\n",
                ");"
            ],
            "metadata": {
                "azdata_cell_guid": "54f54eb3-8327-4e56-9629-9b3ab99c21ef",
                "tags": []
            },
            "outputs": [],
            "execution_count": null
        },
        {
            "cell_type": "markdown",
            "source": [
                "View the row groups that were created for this columnstore index.\n",
                "\n",
                "  \n",
                "\n",
                "Note how most contain the maximum number of rows (1,048,576)."
            ],
            "metadata": {
                "azdata_cell_guid": "c6a9657c-0c1a-4024-aa85-80a3513b4cf2"
            }
        },
        {
            "cell_type": "code",
            "source": [
                "select * \r\n",
                "from ParkingTickets.sys.column_store_row_groups\r\n",
                "where OBJECT_id = OBJECT_ID('ParkingTickets.dbo.ParkingTickets')\r\n",
                "ORDER BY row_group_id;"
            ],
            "metadata": {
                "azdata_cell_guid": "e2ace9d8-8622-4ddc-a927-a7c6943d471f"
            },
            "outputs": [],
            "execution_count": null
        },
        {
            "cell_type": "markdown",
            "source": [
                "But what happens if we add a row to the table? Let's add one and see."
            ],
            "metadata": {
                "azdata_cell_guid": "b87d2f11-6994-47ad-8e56-ae21118dabef"
            }
        },
        {
            "cell_type": "code",
            "source": [
                "INSERT INTO ParkingTickets.dbo.ParkingTickets (Ticket_number, license_state, license_type, issue_date, violation_location, \r\n",
                "    violation_code, badge)\r\n",
                "VALUES (7123456, 'NY', 'PAS', '20210101', '3 Easy St.', '1337','54');\r\n",
                ""
            ],
            "metadata": {
                "azdata_cell_guid": "b8c582ff-f32f-4442-b505-60ea1d3a70a7"
            },
            "outputs": [],
            "execution_count": null
        },
        {
            "cell_type": "markdown",
            "source": [
                "Now re-run the query of row groups.\n",
                "\n",
                "Note how now one of the row groups is in an \"OPEN\" state, as a record has been added and is being held in the delta rowgroup"
            ],
            "metadata": {
                "azdata_cell_guid": "6d6a2a47-ff0a-4228-9d38-811f73cfb249"
            }
        },
        {
            "cell_type": "code",
            "source": [
                "select * \r\n",
                "from ParkingTickets.sys.column_store_row_groups\r\n",
                "where OBJECT_id = OBJECT_ID('ParkingTickets.dbo.ParkingTickets')\r\n",
                "ORDER BY row_group_id;"
            ],
            "metadata": {
                "azdata_cell_guid": "e3a07d61-6641-49f8-bf7c-b7ca243c18a9"
            },
            "outputs": [],
            "execution_count": null
        },
        {
            "cell_type": "markdown",
            "source": [
                "Let's take a quick look at all the segments in this columnstore index"
            ],
            "metadata": {
                "azdata_cell_guid": "a1ebc874-4a46-46a5-a438-b7090580fc58"
            }
        },
        {
            "cell_type": "code",
            "source": [
                "select seg.*\r\n",
                "from ParkingTickets.sys.column_store_segments seg\r\n",
                "\tinner join ParkingTickets.sys.partitions as p \r\n",
                "\t\tON seg.partition_id = p.partition_id\r\n",
                "\twhere p.object_id = OBJECT_ID('ParkingTickets.dbo.ParkingTickets');"
            ],
            "metadata": {
                "azdata_cell_guid": "3e04e416-8c52-4b67-bb3a-a3ab97eae257"
            },
            "outputs": [],
            "execution_count": null
        },
        {
            "cell_type": "code",
            "source": [
                "select DISTINCT seg.HOBT_ID \r\n",
                "from ParkingTickets.sys.column_store_segments seg\r\n",
                "\tinner join ParkingTickets.sys.partitions as p \r\n",
                "\t\tON seg.partition_id = p.partition_id\r\n",
                "\twhere p.object_id = OBJECT_ID('ParkingTickets.dbo.ParkingTickets');"
            ],
            "metadata": {
                "azdata_cell_guid": "372acd4e-deb6-4d71-b23c-4aab35974bf2"
            },
            "outputs": [],
            "execution_count": null
        },
        {
            "cell_type": "markdown",
            "source": [
                "Paste hobt\\_id from previous query into this one to see all dictionaries associated with the columnstore index:"
            ],
            "metadata": {
                "azdata_cell_guid": "acc4496a-e7ce-40d7-a36d-cb7f27b6e828"
            }
        },
        {
            "cell_type": "code",
            "source": [
                "SELECT *\r\n",
                "FROM ParkingTickets.sys.column_store_dictionaries\r\n",
                "WHERE hobt_id = <hobt_id>"
            ],
            "metadata": {
                "azdata_cell_guid": "50def675-c56c-43f6-9757-3cf24936151f"
            },
            "outputs": [],
            "execution_count": null
        },
        {
            "cell_type": "markdown",
            "source": [
                "Get column Name/ID for each column:"
            ],
            "metadata": {
                "azdata_cell_guid": "2df21f3b-8835-455e-83ce-be5568eb97d0"
            }
        },
        {
            "cell_type": "code",
            "source": [
                "select\r\n",
                "    ic.index_column_id,\r\n",
                "    COL_NAME(ic.object_id, ic.column_id) AS column_name\r\n",
                "from sys.objects o\r\n",
                "inner join sys.indexes i on o.object_id = i.object_id\r\n",
                "inner join sys.index_columns ic on ic.object_id = o.object_id\r\n",
                "where o.name = 'ParkingTickets' and i.name = 'CI_ParkingTickets';\r\n",
                ""
            ],
            "metadata": {
                "azdata_cell_guid": "9891ad0c-32b8-4fc2-80f5-e1e3961d9ece"
            },
            "outputs": [],
            "execution_count": null
        },
        {
            "cell_type": "markdown",
            "source": [
                "View all the segments for a particular rowgroup. Note the \"encoding\\_type\" column, which indicates what type of encoding is used for that particular segment. See [documentation](https://docs.microsoft.com/en-us/sql/relational-databases/system-catalog-views/sys-column-store-segments-transact-sql?view=sql-server-ver15) for full definitions.\n",
                "\n",
                "- 1 = VALUE_BASED - non-string/binary with no dictionary (similar to 4 with some internal variations)\n",
                "- 2 = VALUE_HASH_BASED - non-string/binary column with common values in dictionary\n",
                "- 3 = STRING_HASH_BASED - string/binary column with common values in dictionary\n",
                "- 4 = STORE_BY_VALUE_BASED - non-string/binary with no dictionary\n",
                "- 5 = STRING_STORE_BY_VALUE_BASED - string/binary with no dictionary\n",
                "    "
            ],
            "metadata": {
                "azdata_cell_guid": "f3ba829b-e87e-44af-8a97-0aa24c345749"
            }
        },
        {
            "cell_type": "code",
            "source": [
                "select *\r\n",
                "FROM sys.column_store_segments\r\n",
                "WHERE hobt_id = <hobt_id>\r\n",
                "AND segment_id = 2; -- this is the rowgroup ID"
            ],
            "metadata": {
                "azdata_cell_guid": "84de392d-7146-48b9-b683-badc2e811c19"
            },
            "outputs": [],
            "execution_count": null
        },
        {
            "cell_type": "markdown",
            "source": [
                "Run this code in a separate window"
            ],
            "metadata": {
                "azdata_cell_guid": "4c9fc5fb-ac65-41c4-ace8-e94c6a7a2038"
            }
        },
        {
            "cell_type": "markdown",
            "source": [
                "```\n",
                "DBCC TRACEON (3604);\n",
                "GO\n",
                "```\n",
                "```\n",
                "DBCC CSINDEX (\n",
                "    'ParkingTickets', -- db name\n",
                "    <hobt_id>, -- HoBT ID\n",
                "    3, -- column ID  (License_type - char(3)\n", 
                "    2, -- segment ID\n",
                "    1, -- 1 = segment, 2 = dictionary\n",
                "    0 -- {0,1,2}\n",
                ");\n",
                "```"
            ],
            "metadata": {
                "azdata_cell_guid": "b6c5c19c-d4ac-41d0-a0c4-cf44cf59d0c2"
            }
        },
        {
            "cell_type": "markdown",
            "source": [
                "Cleanup"
            ],
            "metadata": {
                "azdata_cell_guid": "5dba69d8-4b2b-4bf1-8ffc-4d4467248683"
            }
        },
        {
            "cell_type": "code",
            "source": [
                "DROP INDEX CI_ParkingTickets ON ParkingTickets.dbo.ParkingTickets;"
            ],
            "metadata": {
                "azdata_cell_guid": "8130fe69-672a-4cba-b7d6-1bcf97fac90d"
            },
            "outputs": [],
            "execution_count": null
        }
    ]
}
