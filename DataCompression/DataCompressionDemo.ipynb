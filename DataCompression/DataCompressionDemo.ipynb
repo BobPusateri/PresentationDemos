{
    "metadata": {
        "kernelspec": {
            "name": "SQL",
            "display_name": "SQL",
            "language": "sql"
        },
        "language_info": {
            "name": "sql",
            "version": ""
        }
    },
    "nbformat_minor": 2,
    "nbformat": 4,
    "cells": [
        {
            "cell_type": "markdown",
            "source": [
                "# Row Compression"
            ],
            "metadata": {
                "azdata_cell_guid": "f1d93e1b-02d4-469c-b015-d709d0e23a56"
            }
        },
        {
            "cell_type": "markdown",
            "source": [
                "Check out the data we're working with. All the parking tickets written in the City of Chicago from 2003 to 2016."
            ],
            "metadata": {
                "azdata_cell_guid": "29d9180f-4936-4073-9565-d46d20c20d71"
            }
        },
        {
            "cell_type": "code",
            "source": [
                "USE ParkingTickets;\r\n",
                "GO\r\n",
                "\r\n",
                "SELECT TOP (100) *\r\n",
                "FROM dbo.ParkingTickets;\r\n",
                ""
            ],
            "metadata": {
                "azdata_cell_guid": "48c82620-df8d-42f6-8b0a-2c241b55cdae"
            },
            "outputs": [],
            "execution_count": null
        },
        {
            "cell_type": "markdown",
            "source": [
                "For purposes of demo performance during a live session, let's copy the top 100K rows off into another table and work with that instead."
            ],
            "metadata": {
                "azdata_cell_guid": "364b96e9-c142-4310-9649-c88e9f09654c"
            }
        },
        {
            "cell_type": "code",
            "source": [
                "SELECT TOP (100000) *\r\n",
                "INTO dbo.ParkingTicketsMini\r\n",
                "FROM dbo.ParkingTickets;\r\n",
                ""
            ],
            "metadata": {
                "azdata_cell_guid": "6ae7c7a4-3c0c-4a0c-a7b5-9be64124aec9"
            },
            "outputs": [],
            "execution_count": null
        },
        {
            "cell_type": "markdown",
            "source": [
                "Run the following query to see the size of the ParkingTicketsMini table"
            ],
            "metadata": {
                "azdata_cell_guid": "2f5fb2ad-3df1-4a5a-b5e8-92dd50b36a63"
            }
        },
        {
            "cell_type": "code",
            "source": [
                "SELECT \r\n",
                "\ts.name AS SchemaName, \r\n",
                "\tt.name AS TableName, \r\n",
                "\ti.index_id,\r\n",
                "\tLTRIM(LEFT(CONVERT(CHAR(25),CONVERT(MONEY,p.rows),1),22)) AS [rows],\r\n",
                "\tp.data_compression_desc,\r\n",
                "\tROUND(CONVERT(FLOAT,MAX(a.total_pages))/128,3) AS Total_MB,\r\n",
                "\tROUND(CONVERT(FLOAT,MAX(a.used_pages))/128,3) AS Used_MB\r\n",
                "FROM sys.tables t\r\n",
                "INNER JOIN sys.schemas s ON t.schema_id = s.schema_id\r\n",
                "INNER JOIN sys.indexes i ON t.object_id = i.object_id\r\n",
                "INNER JOIN sys.partitions p on t.object_id = p.object_id AND i.index_id = p.index_id\r\n",
                "INNER JOIN sys.allocation_units a ON a.container_id = CASE WHEN a.type IN (1,3) THEN p.hobt_id WHEN a.type=2 THEN p.partition_id ELSE NULL END\r\n",
                "WHERE s.name = 'dbo'\r\n",
                "\tAND t.name = 'ParkingTicketsMini'\r\n",
                "GROUP BY s.name, t.name, i.index_id, p.rows, p.data_compression_desc\r\n",
                ""
            ],
            "metadata": {
                "azdata_cell_guid": "3642dd68-a65d-4c33-90e3-cbc731a51f8c"
            },
            "outputs": [],
            "execution_count": null
        },
        {
            "cell_type": "markdown",
            "source": [
                "Apply Row Compression:"
            ],
            "metadata": {
                "azdata_cell_guid": "4a91b9ad-d705-4a1f-b259-a60e7025101a"
            }
        },
        {
            "cell_type": "code",
            "source": [
                "ALTER TABLE dbo.ParkingTicketsMini REBUILD WITH (DATA_COMPRESSION = ROW);"
            ],
            "metadata": {
                "azdata_cell_guid": "b1f7fe99-3389-453d-8a9e-98a237eb5f65"
            },
            "outputs": [],
            "execution_count": null
        },
        {
            "cell_type": "markdown",
            "source": [
                "Check how row compression affected the size:"
            ],
            "metadata": {
                "azdata_cell_guid": "9bb8adbc-abb5-429f-a3bd-c3bf8e9d6329"
            }
        },
        {
            "cell_type": "code",
            "source": [
                "SELECT \r\n",
                "\ts.name AS SchemaName, \r\n",
                "\tt.name AS TableName, \r\n",
                "\ti.index_id,\r\n",
                "\tLTRIM(LEFT(CONVERT(CHAR(25),CONVERT(MONEY,p.rows),1),22)) AS [rows],\r\n",
                "\tp.data_compression_desc,\r\n",
                "\tROUND(CONVERT(FLOAT,MAX(a.total_pages))/128,3) AS Total_MB,\r\n",
                "\tROUND(CONVERT(FLOAT,MAX(a.used_pages))/128,3) AS Used_MB\r\n",
                "FROM sys.tables t\r\n",
                "INNER JOIN sys.schemas s ON t.schema_id = s.schema_id\r\n",
                "INNER JOIN sys.indexes i ON t.object_id = i.object_id\r\n",
                "INNER JOIN sys.partitions p on t.object_id = p.object_id AND i.index_id = p.index_id\r\n",
                "INNER JOIN sys.allocation_units a ON a.container_id = CASE WHEN a.type IN (1,3) THEN p.hobt_id WHEN a.type=2 THEN p.partition_id ELSE NULL END\r\n",
                "WHERE s.name = 'dbo'\r\n",
                "\tAND t.name = 'ParkingTicketsMini'\r\n",
                "GROUP BY s.name, t.name, i.index_id, p.rows, p.data_compression_desc"
            ],
            "metadata": {
                "azdata_cell_guid": "7ba2d588-2182-42c9-ab21-137886c086b7"
            },
            "outputs": [],
            "execution_count": null
        },
        {
            "cell_type": "markdown",
            "source": [
                "List out the pages that make up the table. Find the first one"
            ],
            "metadata": {
                "azdata_cell_guid": "9d4bb7c4-012a-4421-90f9-9766fb043406"
            }
        },
        {
            "cell_type": "code",
            "source": [
                "SELECT allocated_page_file_id, \r\n",
                "    allocated_page_page_id, \r\n",
                "    page_type_desc, \r\n",
                "    next_page_file_id, \r\n",
                "    next_page_page_id, \r\n",
                "    previous_page_file_id, \r\n",
                "    previous_page_page_id\r\n",
                "FROM sys.dm_db_database_page_allocations (\r\n",
                "    db_id('ParkingTickets'), -- database\r\n",
                "    object_id('dbo.ParkingTicketsMini'), -- object\r\n",
                "    0, -- index id\r\n",
                "    1, -- partition number\r\n",
                "    'DETAILED' -- mode {LIMITED|DETAILED}\r\n",
                ")\r\n",
                "WHERE page_type_desc = 'DATA_PAGE'\r\n",
                "    AND previous_page_page_id IS NULL\r\n",
                "    AND next_page_page_id IS NOT NULL"
            ],
            "metadata": {
                "azdata_cell_guid": "3f7691a1-1299-448c-95f3-fce48face52c"
            },
            "outputs": [],
            "execution_count": null
        },
        {
            "cell_type": "markdown",
            "source": [
                "## Run this code in a separate window\n",
                "\n",
                "```\n",
                "DBCC TRACEON (3604);\n",
                "GO\n",
                "```\n",
                "```\n",
                "DBCC PAGE ('ParkingTickets', -- database\n",
                "            3, -- file number of first page\n",
                "            <pageNumber>, -- page number of first page\n",
                "            3 -- show full details\n",
                "            )\n",
                "```"
            ],
            "metadata": {
                "azdata_cell_guid": "29147d19-0c12-48a0-91d6-43b8daa0fdc7"
            }
        },
        {
            "cell_type": "markdown",
            "source": [
                "# Page Compression"
            ],
            "metadata": {
                "azdata_cell_guid": "03439e52-70ee-4073-a9b8-929fc27e82f3"
            }
        },
        {
            "cell_type": "markdown",
            "source": [
                "Rebuild the table with page compression"
            ],
            "metadata": {
                "azdata_cell_guid": "ef396dab-7e96-4f3e-aeb7-7c37aca00b44"
            }
        },
        {
            "cell_type": "code",
            "source": [
                "ALTER TABLE dbo.ParkingTicketsMini REBUILD WITH (DATA_COMPRESSION = PAGE);"
            ],
            "metadata": {
                "azdata_cell_guid": "da88eb68-503f-4e36-ba6b-e0fff9a2d4c3"
            },
            "outputs": [],
            "execution_count": null
        },
        {
            "cell_type": "markdown",
            "source": [
                "Now see what page compression did to the size"
            ],
            "metadata": {
                "azdata_cell_guid": "9548be78-8384-4971-8a26-0736f5746cdd"
            }
        },
        {
            "cell_type": "code",
            "source": [
                "SELECT \r\n",
                "\ts.name AS SchemaName, \r\n",
                "\tt.name AS TableName, \r\n",
                "\ti.index_id,\r\n",
                "\tLTRIM(LEFT(CONVERT(CHAR(25),CONVERT(MONEY,p.rows),1),22)) AS [rows],\r\n",
                "\tp.data_compression_desc,\r\n",
                "\tROUND(CONVERT(FLOAT,MAX(a.total_pages))/128,3) AS Total_MB,\r\n",
                "\tROUND(CONVERT(FLOAT,MAX(a.used_pages))/128,3) AS Used_MB\r\n",
                "FROM sys.tables t\r\n",
                "INNER JOIN sys.schemas s ON t.schema_id = s.schema_id\r\n",
                "INNER JOIN sys.indexes i ON t.object_id = i.object_id\r\n",
                "INNER JOIN sys.partitions p on t.object_id = p.object_id AND i.index_id = p.index_id\r\n",
                "INNER JOIN sys.allocation_units a ON a.container_id = CASE WHEN a.type IN (1,3) THEN p.hobt_id WHEN a.type=2 THEN p.partition_id ELSE NULL END\r\n",
                "WHERE s.name = 'dbo'\r\n",
                "\tAND t.name = 'ParkingTicketsMini'\r\n",
                "GROUP BY s.name, t.name, i.index_id, p.rows, p.data_compression_desc"
            ],
            "metadata": {
                "azdata_cell_guid": "9ee49ea7-ac21-495a-967e-687057ab3838"
            },
            "outputs": [],
            "execution_count": null
        },
        {
            "cell_type": "markdown",
            "source": [
                "Find the first page of the table now"
            ],
            "metadata": {
                "azdata_cell_guid": "eae94842-5f26-4fe6-a47a-b61370090c5e"
            }
        },
        {
            "cell_type": "code",
            "source": [
                "SELECT allocated_page_file_id, \r\n",
                "    allocated_page_page_id, \r\n",
                "    page_type_desc, \r\n",
                "    next_page_file_id, \r\n",
                "    next_page_page_id, \r\n",
                "    previous_page_file_id, \r\n",
                "    previous_page_page_id\r\n",
                "FROM sys.dm_db_database_page_allocations (\r\n",
                "    db_id('ParkingTickets'),\r\n",
                "    object_id('dbo.ParkingTicketsMini'),\r\n",
                "    NULL,\r\n",
                "    NULL,\r\n",
                "    'DETAILED'\r\n",
                ")\r\n",
                "WHERE page_type_desc = 'DATA_PAGE'\r\n",
                "    AND previous_page_page_id IS NULL\r\n",
                "    AND next_page_page_id IS NOT NULL"
            ],
            "metadata": {
                "azdata_cell_guid": "871e80bc-96af-44bd-9a25-858659f57539"
            },
            "outputs": [],
            "execution_count": null
        },
        {
            "cell_type": "markdown",
            "source": [
                "Run DBCC PAGE code from before again in a separate window (with new page number)"
            ],
            "metadata": {
                "azdata_cell_guid": "512e1c03-ccde-40e6-b65d-cd26f79f9afa"
            }
        },
        {
            "cell_type": "markdown",
            "source": [
                "You can see whether a partition is compressed or not by checking sys.partitions"
            ],
            "metadata": {
                "azdata_cell_guid": "a5449764-5072-4427-bee9-d46c40cb5cf6"
            }
        },
        {
            "cell_type": "code",
            "source": [
                "SELECT * from sys.partitions;"
            ],
            "metadata": {
                "azdata_cell_guid": "cc362a25-3b0f-46ee-b81d-91492a29c831"
            },
            "outputs": [],
            "execution_count": null
        },
        {
            "cell_type": "markdown",
            "source": [
                "Filter out system objects:"
            ],
            "metadata": {
                "azdata_cell_guid": "adf91540-22a8-41ce-b52e-9c26bd5a7285"
            }
        },
        {
            "cell_type": "code",
            "source": [
                "SELECT p.partition_id, \r\n",
                "\ts.name AS SchemaName,\r\n",
                "\to.name AS ObjectName,\r\n",
                "\ti.name AS IndexName,\r\n",
                "\tp.partition_number,\r\n",
                "\tp.hobt_id,\r\n",
                "\tp.rows,\r\n",
                "\tp.filestream_filegroup_id,\r\n",
                "\tp.data_compression_desc\r\n",
                "FROM sys.partitions p\r\n",
                "INNER JOIN sys.objects o ON p.object_id = o.object_id\r\n",
                "INNER JOIN sys.indexes i ON p.object_id = i.object_id and p.index_id = i.index_id\r\n",
                "INNER JOIN sys.schemas s ON o.schema_id = s.schema_id\r\n",
                "WHERE s.name NOT IN ('sys','INFORMATION_SCHEMA') -- filter out system schemas (system tables can't be compressed)\r\n",
                "ORDER BY SchemaName, ObjectName, IndexName, partition_number;"
            ],
            "metadata": {
                "azdata_cell_guid": "240114c0-7469-44e6-9d51-183fb92de691"
            },
            "outputs": [],
            "execution_count": null
        },
        {
            "cell_type": "markdown",
            "source": [
                "<span style=\"font-size: 14px;\">Is this database using any features that may require Enterprise Edition? (Data compression no longer does but still shows in this listing)</span>"
            ],
            "metadata": {
                "azdata_cell_guid": "55a37cfe-683c-4e4e-b469-8c0948f816f7"
            }
        },
        {
            "cell_type": "code",
            "source": [
                "select * from sys.dm_db_persisted_sku_features;"
            ],
            "metadata": {
                "azdata_cell_guid": "6c22cf95-ab07-4d81-9dba-8cd56eb8e853"
            },
            "outputs": [],
            "execution_count": null
        },
        {
            "cell_type": "markdown",
            "source": [
                "Estimate how much savings can be attained with either Row or Page compression:"
            ],
            "metadata": {
                "azdata_cell_guid": "eaa38f2c-486a-4a2c-a421-17d0bee82e4f"
            }
        },
        {
            "cell_type": "code",
            "source": [
                "EXEC sp_estimate_data_compression_savings \r\n",
                "    'dbo', -- schema name\r\n",
                "    'ParkingTicketsMini', -- object name\r\n",
                "    NULL, -- index id\r\n",
                "    NULL, -- partition number\r\n",
                "    ROW; -- {NONE|ROW|PAGE|COLUMNSTORE|COLUMNSTORE_ARCHIVE}"
            ],
            "metadata": {
                "azdata_cell_guid": "eea1bac2-d1c0-47d0-a99a-c01c22a79162"
            },
            "outputs": [],
            "execution_count": null
        },
        {
            "cell_type": "code",
            "source": [
                "EXEC sp_estimate_data_compression_savings 'dbo', 'ParkingTicketsMini', NULL, NULL, COLUMNSTORE;"
            ],
            "metadata": {
                "azdata_cell_guid": "b89587a1-f8be-4b80-9aa5-73e9c593b0ae"
            },
            "outputs": [],
            "execution_count": null
        },
        {
            "cell_type": "code",
            "source": [
                "EXEC sp_estimate_data_compression_savings 'dbo', 'ParkingTicketsMini', NULL, NULL, COLUMNSTORE_ARCHIVE;"
            ],
            "metadata": {
                "azdata_cell_guid": "8af699ad-512b-4f79-86b1-a1622ced22dc"
            },
            "outputs": [],
            "execution_count": null
        },
        {
            "cell_type": "markdown",
            "source": [
                "Cleanup"
            ],
            "metadata": {
                "azdata_cell_guid": "6360c2cb-d02f-48b9-bf09-dcf9b2d764e5"
            }
        },
        {
            "cell_type": "code",
            "source": [
                "DROP TABLE IF EXISTS dbo.ParkingTicketsMini;"
            ],
            "metadata": {
                "azdata_cell_guid": "b1ef7e2c-6e6e-435e-8e81-4647a8faa138"
            },
            "outputs": [],
            "execution_count": null
        }
    ]
}