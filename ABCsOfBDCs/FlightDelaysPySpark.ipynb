{
    "metadata": {
        "kernelspec": {
            "name": "pysparkkernel",
            "display_name": "PySpark"
        },
        "language_info": {
            "name": "pyspark",
            "mimetype": "text/x-python",
            "codemirror_mode": {
                "name": "python",
                "version": 2
            },
            "pygments_lexer": "python2"
        }
    },
    "nbformat_minor": 2,
    "nbformat": 4,
    "cells": [
        {
            "cell_type": "code",
            "source": [
                "#This sample code loads the file into a data frame and shows the first 10 results.\r\n",
                "df = (spark.read.option(\"inferSchema\", \"true\")\r\n",
                ".option(\"header\", \"true\")\r\n",
                ".csv(\"/FlightDelays/csv/flightdelays.csv\"))\r\n",
                "df.show(10)"
            ],
            "metadata": {
                "azdata_cell_guid": "30e37e0a-135f-4cb6-9e3d-b1fc378560fd",
                "tags": []
            },
            "outputs": [],
            "execution_count": null
        },
        {
            "cell_type": "code",
            "source": [
                "df.write.parquet('/FlightDelays/parquet')"
            ],
            "metadata": {
                "azdata_cell_guid": "01bd510a-1210-46bb-a7bc-a354cf66d920"
            },
            "outputs": [
                {
                    "data": {
                        "text/plain": "FloatProgress(value=0.0, bar_style='info', description='Progress:', layout=Layout(height='25px', width='50%'),…",
                        "application/vnd.jupyter.widget-view+json": {
                            "version_major": 2,
                            "version_minor": 0,
                            "model_id": "13a6ff934bb040fb8cfbabc15cd92a48"
                        }
                    },
                    "metadata": {},
                    "output_type": "display_data"
                }
            ],
            "execution_count": 5
        }
    ]
}