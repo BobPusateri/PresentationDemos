{
    "metadata": {
        "kernelspec": {
            "name": "SQL",
            "display_name": "SQL",
            "language": "sql"
        },
        "language_info": {
            "name": "sql",
            "version": ""
        }
    },
    "nbformat_minor": 2,
    "nbformat": 4,
    "cells": [
        {
            "cell_type": "code",
            "source": [
                "USE AirlinesData\r\n",
                "GO"
            ],
            "metadata": {
                "azdata_cell_guid": "abd8c776-0ff7-41af-8a34-4887f3de5c8a"
            },
            "outputs": [],
            "execution_count": null
        },
        {
            "cell_type": "code",
            "source": [
                "CREATE EXTERNAL TABLE [csv].[flightdelays] (\r\n",
                "    [Year] int,\r\n",
                "    [Month] int,\r\n",
                "    [DayofMonth] int,\r\n",
                "    [DepTime] float,\r\n",
                "    [CRSDepTime] int,\r\n",
                "    [ArrTime] float,\r\n",
                "    [CRSArrTime] int,\r\n",
                "    [UniqueCarrier] varchar(2),\r\n",
                "    [FlightNum] int,\r\n",
                "    [TailNum] varchar(10),\r\n",
                "    [ActualElapsedTime] float,\r\n",
                "    [CRSElapsedTime] float,\r\n",
                "    [Origin] varchar(5),\r\n",
                "    [Dest] varchar(5),\r\n",
                "    [Cancelled] int,\r\n",
                "    [CancellationCode] varchar(5)\r\n",
                ") WITH (LOCATION = N'/FlightDelays/csv/flightdelays.csv', DATA_SOURCE = [SqlStoragePool], FILE_FORMAT = [FileFormat_csv]);"
            ],
            "metadata": {
                "azdata_cell_guid": "9c01e4a9-6db5-4612-981f-889287e93987"
            },
            "outputs": [],
            "execution_count": null
        },
        {
            "cell_type": "code",
            "source": [
                "DROP EXTERNAL TABLE [csv].[flightdelays] "
            ],
            "metadata": {
                "azdata_cell_guid": "ad02a456-1fa6-452e-95ca-e1933fa89f8f"
            },
            "outputs": [],
            "execution_count": null
        },
        {
            "cell_type": "code",
            "source": [
                "SELECT TOP (100) * FROM [csv].[flightdelays]"
            ],
            "metadata": {
                "azdata_cell_guid": "550d6a05-bc91-45fa-96f6-e8967fabf76a"
            },
            "outputs": [],
            "execution_count": null
        },
        {
            "cell_type": "markdown",
            "source": [
                "Copy this table into Parquet files"
            ],
            "metadata": {
                "azdata_cell_guid": "e651f369-f237-4e15-b9cf-e77b7cfebec9"
            }
        },
        {
            "cell_type": "code",
            "source": [
                "CREATE SCHEMA [parquet];\r\n",
                "GO"
            ],
            "metadata": {
                "azdata_cell_guid": "9e1a175a-48cd-4337-a88d-40c6ce52f93a"
            },
            "outputs": [],
            "execution_count": null
        },
        {
            "cell_type": "code",
            "source": [
                "CREATE EXTERNAL FILE FORMAT [FileFormat_parquet]  \r\n",
                "WITH (FORMAT_TYPE = PARQUET);"
            ],
            "metadata": {
                "azdata_cell_guid": "c7f41f12-35b4-45ae-a0d3-5fc466857291"
            },
            "outputs": [],
            "execution_count": null
        },
        {
            "cell_type": "code",
            "source": [
                "CREATE EXTERNAL TABLE [parquet].[flightdelays] (\r\n",
                "    [Year] int,\r\n",
                "    [Month] int,\r\n",
                "    [DayofMonth] int,\r\n",
                "    [DepTime] float,\r\n",
                "    [CRSDepTime] int,\r\n",
                "    [ArrTime] float,\r\n",
                "    [CRSArrTime] int,\r\n",
                "    [UniqueCarrier] varchar(2),\r\n",
                "    [FlightNum] int,\r\n",
                "    [TailNum] varchar(10),\r\n",
                "    [ActualElapsedTime] float,\r\n",
                "    [CRSElapsedTime] float,\r\n",
                "    [Origin] varchar(5),\r\n",
                "    [Dest] varchar(5),\r\n",
                "    [Cancelled] int,\r\n",
                "    [CancellationCode] varchar(5)\r\n",
                ") WITH (LOCATION = N'/FlightDelays/parquet', DATA_SOURCE = [SqlStoragePool], FILE_FORMAT = [FileFormat_parquet]);"
            ],
            "metadata": {
                "azdata_cell_guid": "55ebba74-412c-47b9-a049-3b16ff8a8a8f"
            },
            "outputs": [],
            "execution_count": null
        },
        {
            "cell_type": "code",
            "source": [
                "SELECT TOP (100) * FROM [parquet].[flightdelays]"
            ],
            "metadata": {
                "azdata_cell_guid": "f8af8ca6-8305-4116-bda6-7bb3b6050e4b"
            },
            "outputs": [],
            "execution_count": null
        },
        {
            "cell_type": "markdown",
            "source": [
                "Copy this data into the Data Pool"
            ],
            "metadata": {
                "azdata_cell_guid": "18aa7274-d942-4ece-b62f-33bb94d49a35"
            }
        },
        {
            "cell_type": "code",
            "source": [
                "Use AirlinesData\r\n",
                "GO\r\n",
                "IF NOT EXISTS(SELECT * FROM sys.external_data_sources WHERE name = 'SqlDataPool')\r\n",
                "        CREATE EXTERNAL DATA SOURCE SqlDataPool\r\n",
                "        WITH (LOCATION = 'sqldatapool://controller-svc/default');"
            ],
            "metadata": {
                "azdata_cell_guid": "e63ac877-59a8-47be-9301-a5bd059d94d9"
            },
            "outputs": [],
            "execution_count": null
        },
        {
            "cell_type": "code",
            "source": [
                "CREATE SCHEMA datapool"
            ],
            "metadata": {
                "azdata_cell_guid": "b2129ac0-f05f-471a-a8bc-2607bf00c1c3"
            },
            "outputs": [],
            "execution_count": null
        },
        {
            "cell_type": "code",
            "source": [
                "CREATE EXTERNAL TABLE [datapool].[FlightDelays] (\r\n",
                "    [Year] int,\r\n",
                "    [Month] int,\r\n",
                "    [DayofMonth] int,\r\n",
                "    [DepTime] float,\r\n",
                "    [CRSDepTime] int,\r\n",
                "    [ArrTime] float,\r\n",
                "    [CRSArrTime] int,\r\n",
                "    [UniqueCarrier] varchar(2),\r\n",
                "    [FlightNum] int,\r\n",
                "    [TailNum] varchar(10),\r\n",
                "    [ActualElapsedTime] float,\r\n",
                "    [CRSElapsedTime] float,\r\n",
                "    [Origin] varchar(5),\r\n",
                "    [Dest] varchar(5),\r\n",
                "    [Cancelled] int,\r\n",
                "    [CancellationCode] varchar(5)\r\n",
                ") WITH (\r\n",
                "    DATA_SOURCE = [SqlDataPool], \r\n",
                "    DISTRIBUTION = ROUND_ROBIN\r\n",
                ");"
            ],
            "metadata": {
                "azdata_cell_guid": "e8141542-0648-4380-89a4-2941b2554fbb"
            },
            "outputs": [],
            "execution_count": null
        },
        {
            "cell_type": "code",
            "source": [
                "INSERT INTO [datapool].[FlightDelays]\r\n",
                "SELECT * FROM [csv].[FlightDelays];"
            ],
            "metadata": {
                "azdata_cell_guid": "c96e032b-8455-467a-bd50-7c4bc16e5bf5",
                "tags": []
            },
            "outputs": [],
            "execution_count": null
        },
        {
            "cell_type": "code",
            "source": [
                "SELECT COUNT(*) AS n\r\n",
                "FROM [datapool].[FlightDelays];"
            ],
            "metadata": {
                "azdata_cell_guid": "5ecd6a62-3da1-4d15-9bf1-460983b9e448",
                "tags": []
            },
            "outputs": [],
            "execution_count": null
        },
        {
            "cell_type": "code",
            "source": [
                "EXEC ('USE [AirlinesData]; SELECT count(*) FROM datapool.FlightDelays') AT Data_Source SqlDataPool;"
            ],
            "metadata": {
                "azdata_cell_guid": "e26f2af9-5a0d-4bca-b5dc-f97bdd1ca02a"
            },
            "outputs": [],
            "execution_count": null
        },
        {
            "cell_type": "markdown",
            "source": [
                "Quick Performance Comparison"
            ],
            "metadata": {
                "azdata_cell_guid": "0ff9e9f7-a718-42c8-95dc-3c045cd77ba3"
            }
        },
        {
            "cell_type": "code",
            "source": [
                "SELECT COUNT(*) FROM [csv].[FlightDelays];"
            ],
            "metadata": {
                "azdata_cell_guid": "945be008-d8de-4abb-ae2c-7985b86857d5"
            },
            "outputs": [],
            "execution_count": null
        },
        {
            "cell_type": "code",
            "source": [
                "SELECT COUNT(*) FROM [parquet].[FlightDelays];"
            ],
            "metadata": {
                "azdata_cell_guid": "95fab38f-c22e-4076-bae1-d2ec2a0229de"
            },
            "outputs": [],
            "execution_count": null
        },
        {
            "cell_type": "code",
            "source": [
                "SELECT COUNT(*) FROM [datapool].[FlightDelays];"
            ],
            "metadata": {
                "azdata_cell_guid": "8768cb96-0b1b-48b4-91a1-7346efe70c6b"
            },
            "outputs": [],
            "execution_count": null
        },
        {
            "cell_type": "markdown",
            "source": [
                "Join between external tables"
            ],
            "metadata": {
                "azdata_cell_guid": "ce2ebc8f-9851-4023-a247-eb23b50c1fdb"
            }
        },
        {
            "cell_type": "code",
            "source": [
                "SELECT TOP (20) pfd.[Year], pfd.[Month], pfd.[DayofMonth], pfd.[UniqueCarrier],\r\n",
                "    a.[Name] AS AirlineName, pfd.[Origin], pfd.[Dest]\r\n",
                "FROM [parquet].[FlightDelays] pfd\r\n",
                "INNER JOIN [csv].[airlines] a ON pfd.UniqueCarrier = a.IATA AND a.IATA = 'F9';"
            ],
            "metadata": {
                "azdata_cell_guid": "b5c0b2eb-ca6f-4898-b991-8535931d59b4"
            },
            "outputs": [],
            "execution_count": null
        }
    ]
}