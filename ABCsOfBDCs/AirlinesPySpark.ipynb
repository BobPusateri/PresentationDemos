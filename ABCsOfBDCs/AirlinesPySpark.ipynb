{
    "metadata": {
        "kernelspec": {
            "name": "pysparkkernel",
            "display_name": "PySpark"
        },
        "language_info": {
            "name": "pyspark",
            "mimetype": "text/x-python",
            "codemirror_mode": {
                "name": "python",
                "version": 2
            },
            "pygments_lexer": "python2"
        }
    },
    "nbformat_minor": 2,
    "nbformat": 4,
    "cells": [
        {
            "cell_type": "code",
            "source": [
                "df = (spark.read.option(\"inferSchema\", \"true\")\r\n",
                "    .option(\"header\", \"true\")\r\n",
                "    .csv(\"/Airlines/csv/airlines.csv\"))\r\n",
                "df.show(10)"
            ],
            "metadata": {
                "azdata_cell_guid": "53e185e7-beba-4476-8511-ce81496a06a9"
            },
            "outputs": [],
            "execution_count": null
        },
        {
            "cell_type": "code",
            "source": [
                "df.printSchema()"
            ],
            "metadata": {
                "azdata_cell_guid": "0439640d-a326-4438-b956-0f40d655743d"
            },
            "outputs": [],
            "execution_count": null
        },
        {
            "cell_type": "code",
            "source": [
                "import pandas as pd\r\n",
                "\r\n",
                "pandasdf = df.toPandas()\r\n",
                ""
            ],
            "metadata": {
                "azdata_cell_guid": "65f3199f-3a16-48bd-9289-cb75434b41e8",
                "tags": []
            },
            "outputs": [],
            "execution_count": null
        },
        {
            "cell_type": "code",
            "source": [
                "pandasdf.info()"
            ],
            "metadata": {
                "azdata_cell_guid": "f65008f5-e891-409d-a83b-e85325d79f51"
            },
            "outputs": [],
            "execution_count": null
        },
        {
            "cell_type": "code",
            "source": [
                "dict([(v, pandasdf[v].apply(lambda r: len(str(r)) if r!=None else 0).max())for v in pandasdf.columns.values])"
            ],
            "metadata": {
                "azdata_cell_guid": "f8e87903-c174-4f7e-a01f-f135da7b3423"
            },
            "outputs": [],
            "execution_count": null
        },
        {
            "cell_type": "code",
            "source": [
                "pandasdf.describe()"
            ],
            "metadata": {
                "azdata_cell_guid": "dcdbf9b2-1935-4019-968c-d76ed6b509ec"
            },
            "outputs": [],
            "execution_count": null
        }
    ]
}