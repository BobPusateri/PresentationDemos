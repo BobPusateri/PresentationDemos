{
    "metadata": {
        "kernelspec": {
            "name": "SQL",
            "display_name": "SQL",
            "language": "sql"
        },
        "language_info": {
            "name": "sql",
            "version": ""
        }
    },
    "nbformat_minor": 2,
    "nbformat": 4,
    "cells": [
        {
            "cell_type": "code",
            "source": [
                "CREATE DATABASE AirlinesData;\r\n",
                "GO\r\n",
                "USE AirlinesData\r\n",
                "GO\r\n",
                "CREATE SCHEMA csv;"
            ],
            "metadata": {
                "azdata_cell_guid": "5bf1c513-a808-43fc-aceb-80ea642b67dc"
            },
            "outputs": [],
            "execution_count": null
        },
        {
            "cell_type": "markdown",
            "source": [
                "Now create external table for airlines.csv"
            ],
            "metadata": {
                "azdata_cell_guid": "6790c6f1-10fa-4304-82c7-1eb15588cca6"
            }
        },
        {
            "cell_type": "code",
            "source": [
                "CREATE EXTERNAL DATA SOURCE [SqlStoragePool]\r\n",
                "            WITH (LOCATION = N'sqlhdfs://controller-svc/default');"
            ],
            "metadata": {
                "azdata_cell_guid": "2075a2f9-82da-4c2b-94f2-c54971db0ad2"
            },
            "outputs": [],
            "execution_count": null
        },
        {
            "cell_type": "code",
            "source": [
                "CREATE EXTERNAL FILE FORMAT [FileFormat_csv]\r\n",
                "            WITH (FORMAT_TYPE = DELIMITEDTEXT, FORMAT_OPTIONS (FIELD_TERMINATOR = N',', STRING_DELIMITER = N'\"', FIRST_ROW = 2));"
            ],
            "metadata": {
                "azdata_cell_guid": "456c4b64-79d5-42b9-839c-3b0681f10a7a"
            },
            "outputs": [],
            "execution_count": null
        },
        {
            "cell_type": "code",
            "source": [
                "CREATE EXTERNAL TABLE [csv].[airlines]\r\n",
                "        (\r\n",
                "            [Airline_ID] smallint NOT NULL,\r\n",
                "            [Name] varchar(100) NOT NULL,\r\n",
                "            [Alias] varchar(50) NOT NULL,\r\n",
                "            [IATA] varchar(5),\r\n",
                "            [ICAO] varchar(10),\r\n",
                "            [Callsign] varchar(100),\r\n",
                "            [Country] varchar(10),\r\n",
                "            [Active] char(1)\r\n",
                "        )\r\n",
                "        WITH (LOCATION = N'/Airlines/csv/airlines.csv', DATA_SOURCE = [SqlStoragePool], FILE_FORMAT = [FileFormat_csv]);"
            ],
            "metadata": {
                "azdata_cell_guid": "c54e92d1-ae00-4b3e-a849-68647dd6a85d"
            },
            "outputs": [],
            "execution_count": null
        },
        {
            "cell_type": "code",
            "source": [
                "DROP EXTERNAL TABLE [csv].[airlines]"
            ],
            "metadata": {
                "azdata_cell_guid": "9b53f55e-e0f0-4a7d-99a2-800249662c9d"
            },
            "outputs": [],
            "execution_count": null
        },
        {
            "cell_type": "markdown",
            "source": [
                "Query the table"
            ],
            "metadata": {
                "azdata_cell_guid": "afd7c8a1-985c-4f75-8e63-eb0d4f29d70e"
            }
        },
        {
            "cell_type": "code",
            "source": [
                "select TOP (100) * from [csv].[airlines];"
            ],
            "metadata": {
                "azdata_cell_guid": "d87898df-83f9-4f03-a7fb-9dbda116c0bb"
            },
            "outputs": [],
            "execution_count": null
        },
        {
            "cell_type": "code",
            "source": [
                "CREATE INDEX IX_NAME on [csv].[airlines] (Name);"
            ],
            "metadata": {
                "azdata_cell_guid": "e0e13246-a77d-4a3e-89c4-56dcf1e0e49e"
            },
            "outputs": [],
            "execution_count": null
        },
        {
            "cell_type": "code",
            "source": [
                "UPDATE [csv].[airlines]\r\n",
                "SET [Name] = 'Bob'\r\n",
                "WHERE Airline_ID = 1"
            ],
            "metadata": {
                "azdata_cell_guid": "3f06f503-e41e-4566-9464-e4d0e4e9dadc"
            },
            "outputs": [],
            "execution_count": null
        },
        {
            "cell_type": "code",
            "source": [
                "SELECT *\r\n",
                "FROM [csv].[airlines]\r\n",
                "WHERE Country = 'Belgium' AND Active = 'Y';"
            ],
            "metadata": {
                "azdata_cell_guid": "221c1d59-f1d0-4bf3-b53f-3e7d32f0d168"
            },
            "outputs": [],
            "execution_count": null
        }
    ]
}