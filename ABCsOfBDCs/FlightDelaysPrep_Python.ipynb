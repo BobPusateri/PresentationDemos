{
    "metadata": {
        "kernelspec": {
            "name": "python3",
            "display_name": "Python 3"
        },
        "language_info": {
            "name": "python",
            "version": "3.6.6",
            "mimetype": "text/x-python",
            "codemirror_mode": {
                "name": "ipython",
                "version": 3
            },
            "pygments_lexer": "ipython3",
            "nbconvert_exporter": "python",
            "file_extension": ".py"
        }
    },
    "nbformat_minor": 2,
    "nbformat": 4,
    "cells": [
        {
            "cell_type": "code",
            "source": [
                "import os\r\n",
                "import subprocess\r\n",
                "\r\n",
                "CLUSTER_NAME=\"<cluster name>\"\r\n",
                "password=\"<password>\"\r\n",
                "\r\n",
                "command=\"kubectl get service gateway-svc-external -o=custom-columns=\"\"IP:status.loadBalancer.ingress[0].ip\"\" -n \"+CLUSTER_NAME\r\n",
                "knoxip=str(subprocess.check_output(command)).split('\\\\n')[1]"
            ],
            "metadata": {
                "azdata_cell_guid": "457e6520-3dff-4789-a7d4-0f6c258db265"
            },
            "outputs": [],
            "execution_count": null
        },
        {
            "cell_type": "code",
            "source": [
                "command=\"curl -s -S -L -k -u root:\"+ password + \" -X PUT \\\"https://\" + knoxip + \":30443/gateway/default/webhdfs/v1/FlightDelays/csv/flightdelays.csv?op=create&overwrite=true\\\" -H \\\"Content-Type: application/octet-stream\\\" -T \\\"D:\\\\Dropbox\\\\SQL\\\\Presentations\\\\BDCs\\\\DemoData\\\\FlightDelays.csv\\\"\"\n",
                "subprocess.run(command)"
            ],
            "metadata": {
                "azdata_cell_guid": "e654329c-7f2a-440a-b16f-ed555f53daf4",
                "tags": [
                    "hide_input"
                ]
            },
            "outputs": [],
            "execution_count": null
        }
    ]
}